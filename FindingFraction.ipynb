{
 "cells": [
  {
   "cell_type": "code",
   "execution_count": 17,
   "metadata": {
    "scrolled": true
   },
   "outputs": [
    {
     "name": "stdout",
     "output_type": "stream",
     "text": [
      "Number of fraction to be added: 3\n",
      "\n",
      "Fraction :  1\n",
      "Numerator : 6\n",
      "Denomenator : 9\n",
      "\n",
      "Fraction :  2\n",
      "Numerator : 2\n",
      "Denomenator : 5\n",
      "\n",
      "Fraction :  3\n",
      "Numerator : 6\n",
      "Denomenator : 7\n",
      "\n",
      "\n",
      "6 / 9\n",
      "2 / 5\n",
      "6 / 7\n",
      "\n",
      "Changed to : \n",
      "\n",
      "\n",
      "70 / 105\n",
      "42 / 105\n",
      "90 / 105\n"
     ]
    }
   ],
   "source": [
    "import math\n",
    "\n",
    "def LCMofArray(a):\n",
    "    lcm = a[0]\n",
    "    for i in range(1,len(a)):\n",
    "        lcm = lcm*a[i]//math.gcd(lcm, a[i])\n",
    "    return lcm\n",
    "num_list = []\n",
    "denom_list = []\n",
    "dnom_backup = []\n",
    "num_value = 0\n",
    "denom_value = 0\n",
    "\n",
    "n = int(input(\"Number of fraction to be added: \"))\n",
    "\n",
    "for i in range(n):\n",
    "    print(\"\\nFraction : \",i+1)\n",
    "    num_value = int(input(\"Numerator : \"))\n",
    "    num_list.append(num_value)\n",
    "    denom_value = int(input(\"Denomenator : \"))\n",
    "    denom_list.append(denom_value)\n",
    "    num_value = 0\n",
    "    denom_value = 0\n",
    "print('\\n')    \n",
    "for i in range(n):\n",
    "    print(num_list[i],\"/\",denom_list[i])\n",
    "    \n",
    "print(\"\\nChanged to : \")\n",
    "    \n",
    "for i in range(n):\n",
    "    common_factor = math.gcd(num_list[i],denom_list[i])\n",
    "    if common_factor == 1:\n",
    "        continue\n",
    "    else:\n",
    "        num_list[i] = num_list[i]//common_factor\n",
    "        denom_list[i] = denom_list[i]//common_factor\n",
    "    \n",
    "denom_backup = denom_list\n",
    "LCM_denom = LCMofArray(denom_list)\n",
    "print(\"\\n\")\n",
    "\n",
    "sum_num=0\n",
    "factor = 0\n",
    "for i in range(n):\n",
    "    factor = LCM_denom//(denom_list[i])\n",
    "    num_list[i] = factor*num_list[i]\n",
    "    denom_list[i] = LCM_denom\n",
    "    sum_num += num_list[i]\n",
    "    print(num_list[i],\"/\",denom_list[i])"
   ]
  },
  {
   "cell_type": "code",
   "execution_count": null,
   "metadata": {},
   "outputs": [],
   "source": []
  }
 ],
 "metadata": {
  "kernelspec": {
   "display_name": "Python 3",
   "language": "python",
   "name": "python3"
  },
  "language_info": {
   "codemirror_mode": {
    "name": "ipython",
    "version": 3
   },
   "file_extension": ".py",
   "mimetype": "text/x-python",
   "name": "python",
   "nbconvert_exporter": "python",
   "pygments_lexer": "ipython3",
   "version": "3.7.6"
  }
 },
 "nbformat": 4,
 "nbformat_minor": 4
}
