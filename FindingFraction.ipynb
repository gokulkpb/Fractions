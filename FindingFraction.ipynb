{
 "cells": [
  {
   "cell_type": "code",
   "execution_count": 21,
   "metadata": {
    "scrolled": true
   },
   "outputs": [
    {
     "name": "stdout",
     "output_type": "stream",
     "text": [
      "Number of fraction to be added: 4\n",
      "\n",
      "Fraction :  1\n",
      "Numerator : 2\n",
      "Denomenator : 3\n",
      "\n",
      "Fraction :  2\n",
      "Numerator : 4\n",
      "Denomenator : 5\n",
      "\n",
      "Fraction :  3\n",
      "Numerator : 6\n",
      "Denomenator : 7\n",
      "\n",
      "Fraction :  4\n",
      "Numerator : 8\n",
      "Denomenator : 9\n",
      "\n",
      "\n",
      "210 / 315\n",
      "252 / 315\n",
      "270 / 315\n",
      "280 / 315\n"
     ]
    }
   ],
   "source": [
    "import math\n",
    "\n",
    "def LCMofArray(a):\n",
    "    lcm = a[0]\n",
    "    for i in range(1,len(a)):\n",
    "        lcm = lcm*a[i]//math.gcd(lcm, a[i])\n",
    "    return lcm\n",
    "num_list = []\n",
    "denom_list = []\n",
    "dnom_backup = []\n",
    "num_value = 0\n",
    "denom_value = 0\n",
    "\n",
    "n = int(input(\"Number of fraction to be added: \"))\n",
    "\n",
    "for i in range(n):\n",
    "    print(\"\\nFraction : \",i+1)\n",
    "    num_value = int(input(\"Numerator : \"))\n",
    "    num_list.append(num_value)\n",
    "    denom_value = int(input(\"Denomenator : \"))\n",
    "    denom_list.append(denom_value)\n",
    "    num_value = 0\n",
    "    denom_value = 0\n",
    "\n",
    "denom_backup = denom_list\n",
    "LCM_denom = LCMofArray(denom_list)\n",
    "print(\"\\n\")\n",
    "\n",
    "sum_num=0\n",
    "factor = 0\n",
    "for i in range(n):\n",
    "    factor = LCM_denom//(denom_list[i])\n",
    "    num_list[i] = factor*num_list[i]\n",
    "    denom_list[i] = LCM_denom\n",
    "    sum_num += num_list[i]\n",
    "    print(num_list[i],\"/\",denom_list[i])\n",
    "    \n",
    "\n",
    "\n",
    "    \n",
    "    \n"
   ]
  },
  {
   "cell_type": "code",
   "execution_count": null,
   "metadata": {},
   "outputs": [],
   "source": []
  }
 ],
 "metadata": {
  "kernelspec": {
   "display_name": "Python 3",
   "language": "python",
   "name": "python3"
  },
  "language_info": {
   "codemirror_mode": {
    "name": "ipython",
    "version": 3
   },
   "file_extension": ".py",
   "mimetype": "text/x-python",
   "name": "python",
   "nbconvert_exporter": "python",
   "pygments_lexer": "ipython3",
   "version": "3.7.6"
  }
 },
 "nbformat": 4,
 "nbformat_minor": 4
}
